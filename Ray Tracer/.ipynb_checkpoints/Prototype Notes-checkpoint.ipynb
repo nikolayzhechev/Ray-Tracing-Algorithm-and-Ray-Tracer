{
 "cells": [
  {
   "cell_type": "markdown",
   "id": "3a11dff4-1bb6-42da-aaa3-d74765c9cc8d",
   "metadata": {},
   "source": [
    "## Ray tracer implementation notes\n",
    "\n",
    "### Classes:"
   ]
  },
  {
   "cell_type": "markdown",
   "id": "9d5b91b5-78b2-4f8b-ba23-dc19508030b4",
   "metadata": {},
   "source": [
    "#### Main:\n",
    "- main point of the program\n",
    "- instantiates Vector, Scene and Sphere\n",
    "#### Vector:\n",
    "- normalization\n",
    "- dot product\n",
    "- reflection\n",
    "##### Ray:  \n",
    "- origin\n",
    "- derection\n",
    "\n",
    "##### Material:\n",
    "- color\n",
    "- ambient\n",
    "- diffuse\n",
    "- specular"
   ]
  },
  {
   "cell_type": "markdown",
   "id": "8bfef44e-67be-44b5-afcf-42752077943c",
   "metadata": {},
   "source": [
    "Consider using:  \n",
    "Pypy  \n",
    "AsyncIO"
   ]
  },
  {
   "cell_type": "code",
   "execution_count": null,
   "id": "b0fb08fc-021c-4fa0-8ce7-71a5df33365d",
   "metadata": {},
   "outputs": [],
   "source": [
    "discriminant > 0 intersects at 2 points\n",
    "discriminant = 0 intersects at 1 point\n",
    "discriminant < 0 does not intersect"
   ]
  },
  {
   "cell_type": "markdown",
   "id": "e5d5ed97-24d5-4cee-b074-54caa0f0b2ef",
   "metadata": {},
   "source": [
    "Implementation steps:\n",
    "- define clasess for scene, shpere, vector\n",
    "- calculate intersection\n",
    "- define 3d object and set a rendering mechanishm\n",
    "- include light and shading"
   ]
  },
  {
   "cell_type": "markdown",
   "id": "0fc3e192-52b8-466b-a1b0-0865d6e59732",
   "metadata": {},
   "source": [
    "Lambert  \n",
    "Bling-Phong"
   ]
  },
  {
   "cell_type": "markdown",
   "id": "6b08c13d-74c3-4215-9ef4-9877f47bcd2e",
   "metadata": {},
   "source": [
    "Test scene params:  \n",
    "Camera: (0, -0.35, -1)  \n",
    "Blue ball: (0.75, -0.1, 1)  \n",
    "Pink ball: (-0.75, -0.1, 2.25)  \n",
    "\n",
    "Light 1: (1.5, -0.5, -10.0)  \n",
    "Light 2: (-0.5, -10.5, 0.0)"
   ]
  },
  {
   "cell_type": "code",
   "execution_count": null,
   "id": "066452a6-051a-4f63-9239-d1205f66a1d5",
   "metadata": {},
   "outputs": [],
   "source": []
  }
 ],
 "metadata": {
  "kernelspec": {
   "display_name": "Python 3 (ipykernel)",
   "language": "python",
   "name": "python3"
  },
  "language_info": {
   "codemirror_mode": {
    "name": "ipython",
    "version": 3
   },
   "file_extension": ".py",
   "mimetype": "text/x-python",
   "name": "python",
   "nbconvert_exporter": "python",
   "pygments_lexer": "ipython3",
   "version": "3.11.7"
  }
 },
 "nbformat": 4,
 "nbformat_minor": 5
}
