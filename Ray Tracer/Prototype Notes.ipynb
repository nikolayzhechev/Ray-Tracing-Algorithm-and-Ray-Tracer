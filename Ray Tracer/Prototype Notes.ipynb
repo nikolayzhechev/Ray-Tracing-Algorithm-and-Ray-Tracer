{
 "cells": [
  {
   "cell_type": "markdown",
   "id": "3a11dff4-1bb6-42da-aaa3-d74765c9cc8d",
   "metadata": {},
   "source": [
    "#### Ray tracer implementation notes"
   ]
  },
  {
   "cell_type": "markdown",
   "id": "9d5b91b5-78b2-4f8b-ba23-dc19508030b4",
   "metadata": {},
   "source": [
    "Vector Operations:\n",
    "- normalization\n",
    "- dot product\n",
    "- reflection"
   ]
  },
  {
   "cell_type": "code",
   "execution_count": null,
   "id": "0f9878cd-accd-408e-b259-b15d9b659c12",
   "metadata": {},
   "outputs": [],
   "source": []
  }
 ],
 "metadata": {
  "kernelspec": {
   "display_name": "Python 3 (ipykernel)",
   "language": "python",
   "name": "python3"
  },
  "language_info": {
   "codemirror_mode": {
    "name": "ipython",
    "version": 3
   },
   "file_extension": ".py",
   "mimetype": "text/x-python",
   "name": "python",
   "nbconvert_exporter": "python",
   "pygments_lexer": "ipython3",
   "version": "3.11.7"
  }
 },
 "nbformat": 4,
 "nbformat_minor": 5
}
