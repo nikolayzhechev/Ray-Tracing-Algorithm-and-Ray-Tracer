import sympy
import math
import numpy as np
import matplotlib.pyplot as plt
## 3d imports >
from mpl_toolkits.mplot3d import Axes3D
from mpl_toolkits.mplot3d.art3d import Poly3DCollection























define_scene(30, -40)





add_camera(30, -10)


define_pyramid()


def define_scene (elev, azim):
    '''3.1 Scene: Defines a trianble and scene with 3 coordinates in the x, y, z axis.'''
    fig = plt.figure(figsize = (6, 6))
    
    ax = Axes3D(fig, auto_add_to_figure=False)
    
    fig.add_axes(ax)
    
    ## x = [0, 1, 1, 0]
    ## y = [0, 0, 1, 1]
    ## z = [0, 0.6, 0, 1]
    x = [0, 0.5, 1]
    y = [0.5, 1, 0.5]
    z = [0, 1, 0]
    
    verts = [list(zip(x, y, z))]
    
    ax.get_proj = lambda: np.dot(Axes3D.get_proj(ax), np.diag([1, 0.8, 1, 1]))
    ax.add_collection3d(Poly3DCollection(verts))
    
    ax.text(0, 0.5, 0, "t_1", color='black', fontsize=14, fontweight='bold')
    ax.text(1, 0.5, 0, "t_2", color='black', fontsize=14, fontweight='bold')
    ax.text(0.5, 1, 1, "t_3", color='black', fontsize=14, fontweight='bold')
    
    plt.xlabel('x', fontsize=12)
    plt.ylabel('y', fontsize=12) 
    ax.set_zlabel('z', fontsize=12)
    # set view point - elev, azim
    ax.view_init(elev, azim)
    
    return fig, ax
    plt.show()

def add_camera (elev, azim):
    '''Adds a camera or point of view to the scene'''
    soa = np.array([[0.5, 0, 1, 0, 0.5, -0.5]])
    X, Y, Z, U, V, W = zip(*soa)
    
    fig, ax = define_scene(elev, azim)
    
    ax.quiver(X, Y, Z, U, V, W, color='r')

    plt.show()

def define_pyramid ():
    '''Defines a pyramid in 3d'''
    fig = plt.figure()
    ax = fig.add_subplot(111, projection='3d')
    
    v = np.array([[-1, -1, -1], [1, -1, -1], [1, 1, -1],  [-1, 1, -1], [0, 0, 1]])
    ax.scatter3D(v[:, 0], v[:, 1], v[:, 2])
    
    verts = [ [v[0],v[1],v[4]], [v[0],v[3],v[4]],
     [v[2],v[1],v[4]], [v[2],v[3],v[4]], [v[0],v[1],v[2],v[3]]]

    # plot sides
    ax.add_collection3d(Poly3DCollection(verts, 
     facecolors='cyan', linewidths=1, edgecolors='r', alpha=.25))
    
    plt.show()





x = np.linspace(-2, 2, 100)
y = abs(x)
 
fig = plt.figure(figsize = (8, 8))
plt.axes(projection='3d')

plt.plot(x, y)
plt.title('Modulus Function')
plt.xlabel('x')
plt.ylabel('|x|')
plt.grid(True)
plt.show()


soa = np.array([
    [0, 0, 1, 1, -2, 0],
    [0, 0, 1, 1, 1, 0],
    [0, 0, 1, -1, 1, 1.5],
    [0, 0, 1, 0.5, 0.7, 3]])

X, Y, Z, U, V, W = zip(*soa)
# X, Y, Z base arrow location
# U, V, W arrow vectors

fig = plt.figure(figsize = (8, 8))

ax = fig.add_subplot(111, projection='3d')
ax.quiver(X, Y, Z, U, V, W)
ax.set_xlim([-1, 0.5])
ax.set_ylim([-1, 1.5])
ax.set_zlim([-1, 8])

plt.show()






