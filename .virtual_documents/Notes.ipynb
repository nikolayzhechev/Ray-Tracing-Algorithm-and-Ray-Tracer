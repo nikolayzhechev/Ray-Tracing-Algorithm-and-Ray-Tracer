import sympy
import math
import numpy as np
import matplotlib.pyplot as plt
import pylab
from IPython.display import Image as IPImage, display
from PIL import Image
## 3d imports >
from mpl_toolkits.mplot3d import Axes3D
from mpl_toolkits.mplot3d.art3d import Poly3DCollection

import sys
import os


IPImage(filename = 'output_image_01.png')


IPImage(filename = 'output_image_02.png')


# latest render
sys.path.append(os.path.abspath("Ray Tracer/src"))
import main

main.main(960, 540)
































define_scene(30, -40, "t_1", "t_2", "t_3")





add_camera(30, -10)


define_pyramid()


def define_scene (elev, azim, A, B, C):
    '''3.1 Scene: Defines a trianble and scene with 3 coordinates in the x, y, z axis.'''
    fig = plt.figure(figsize = (5, 5))
    
    ax = Axes3D(fig, auto_add_to_figure=False)
    
    fig.add_axes(ax)

    x = [0, 0.5, 1]
    y = [0.5, 1, 0.5]
    z = [0, 1, 0]
    
    verts = [list(zip(x, y, z))]
    
    ax.get_proj = lambda: np.dot(Axes3D.get_proj(ax), np.diag([1, 0.8, 1, 1]))
    ax.add_collection3d(Poly3DCollection(verts))
    
    ax.text(0, 0.5, 0, A, color='black', fontsize=14, fontweight='bold')
    ax.text(1, 0.5, 0, B, color='black', fontsize=14, fontweight='bold')
    ax.text(0.5, 1, 1, C, color='black', fontsize=14, fontweight='bold')
    
    plt.xlabel('x', fontsize=12)
    plt.ylabel('y', fontsize=12) 
    ax.set_zlabel('z', fontsize=12)
    # set view point - elev, azim
    ax.view_init(elev, azim)
    
    return fig, ax
    plt.show()

def add_camera (elev, azim):
    '''Adds a camera or point of view to the scene'''
    soa = np.array([[0.5, 0, 1, 0, 0.5, -0.5]])
    X, Y, Z, U, V, W = zip(*soa)
    
    fig, ax = define_scene(elev, azim, "t_1", "t_2", "t_3")
    
    ax.quiver(X, Y, Z, U, V, W, color='r')

    plt.show()

def define_pyramid ():
    '''Defines a pyramid in 3d'''
    fig = plt.figure()
    ax = fig.add_subplot(111, projection='3d')
    
    v = np.array([[-1, -1, -1], [1, -1, -1], [1, 1, -1],  [-1, 1, -1], [0, 0, 1]])
    ax.scatter3D(v[:, 0], v[:, 1], v[:, 2])
    
    verts = [ [v[0],v[1],v[4]], [v[0],v[3],v[4]],
     [v[2],v[1],v[4]], [v[2],v[3],v[4]], [v[0],v[1],v[2],v[3]]]

    # plot sides
    ax.add_collection3d(Poly3DCollection(verts, 
     facecolors='cyan', linewidths=1, edgecolors='r', alpha=.25))
    
    plt.show()





orthogonal_line(10, -10)


def orthogonal_line (elev, azim):
    ''' Define a visual orthogonal line from a plane '''
    fig = plt.figure()
    
    xs = np.linspace(5, 10, 10)
    zs = np.linspace(5, 10, 10)
    
    X1, Z1 = np.meshgrid(xs, zs)
    Y1 = Z1
    
    ax = fig.add_subplot(111, projection='3d')
    ax.plot_surface(X1, Y1, Z1)
    ax.view_init(elev, azim)
    
    fig.add_axes(ax)  
    
    soa = np.array([[2.5, 8, 7, 0, -2.5, 3]])
    X, Y, Z, U, V, W = zip(*soa)
    
    ax.quiver(X, Y, Z, U, V, W, color='r')

    plt.xlabel('x', fontsize=12)
    plt.ylabel('y', fontsize=12) 
    ax.set_zlabel('z', fontsize=12)
    plt.show()








define_scene(30, -40, "{-1, 0, 2}", "{1, 0, 2}", "{0, -1, 3}")








    soa = np.array([[0, 0.5, 0, 0, -0.5, 0.5]])
    text_coordinates = np.array([0, 0.2, 0.3])
    X, Y, Z, U, V, W = zip(*soa)
    
    fig, ax = define_scene(10, -40, "{-1, 0, 2}", "t_2", "t_3")
    
    ax.quiver(X, Y, Z, U, V, W, color='r')

    ax.text(text_coordinates[0], text_coordinates[1], text_coordinates[2], "{0, -2, -2}")

    plt.show()


























# test code
# Function to check if point P is on the same side of the line AB as point C
def same_side(p1, p2, a, b):
    cp1 = np.cross(b - a, p1 - a)
    cp2 = np.cross(b - a, p2 - a)
    return np.dot(cp1, cp2) >= 0

# Function to check if point P is inside the triangle ABC
def point_in_triangle(p, a, b, c):
    return same_side(p, a, b, c) and same_side(p, b, a, c) and same_side(p, c, a, b)

# Define the vertices of the triangle
t1 = np.array([0, 0, 0])
t2 = np.array([1, 0, 0])
t3 = np.array([0, 1, 0])

# Define the ray starting point and direction
s = np.array([0.2, 0.2, -1])
m = np.array([0, 0, 1])

# Plane equation coefficients
a, b, c = np.cross(t2 - t1, t3 - t1)
k = -np.dot(np.array([a, b, c]), t1)

# Calculate the intersection point of the ray with the plane
numerator = -(a * s[0] + b * s[1] + c * s[2] + k)
denominator = (a * m[0] + b * m[1] + c * m[2])
λ = numerator / denominator
intersection = s + λ * m

# Check if the intersection point is inside the triangle
inside = point_in_triangle(intersection, t1, t2, t3)

# Plotting
fig = plt.figure()
ax = fig.add_subplot(111, projection='3d')

# Plot the triangle
triangle = np.array([t1, t2, t3])
ax.add_collection3d(Poly3DCollection([triangle], color='cyan', alpha=0.5))

# Plot the ray
ray = np.array([s, intersection])
ax.plot(ray[:, 0], ray[:, 1], ray[:, 2], color='red')

# Plot the intersection point
ax.scatter(*intersection, color='blue' if inside else 'red', s=100)

# Annotate points
ax.text(*t1, "t1", color='black')
ax.text(*t2, "t2", color='black')
ax.text(*t3, "t3", color='black')
ax.text(*s, "s", color='black')
ax.text(*intersection, "i", color='blue' if inside else 'red')

# Set plot limits and labels
ax.set_xlim(-1, 1)
ax.set_ylim(-1, 1)
ax.set_zlim(-1, 1)
ax.set_xlabel('X')
ax.set_ylabel('Y')
ax.set_zlabel('Z')

plt.show()





x = np.linspace(-2, 2, 100)
y = abs(x)

fig = plt.figure(figsize = (8, 8))
plt.axes(projection='3d')

plt.plot(x, y)
plt.title('Modulus Function')
plt.xlabel('x')
plt.ylabel('|x|')
plt.grid(True)
plt.show()


soa = np.array([
    [0, 0, 1, 1, -2, 0],
    [0, 0, 1, 1, 1, 0],
    [0, 0, 1, -1, 1, 1.5],
    [0, 0, 1, 0.5, 0.7, 3]])

X, Y, Z, U, V, W = zip(*soa)
# X, Y, Z base arrow location
# U, V, W arrow vectors

fig = plt.figure(figsize = (8, 8))

ax = fig.add_subplot(111, projection='3d')
ax.quiver(X, Y, Z, U, V, W)
ax.set_xlim([-1, 0.5])
ax.set_ylim([-1, 1.5])
ax.set_zlim([-1, 8])

plt.show()


discriminant > intersects at 2 points
discriminant = 0 intersects at 1 point
discriminant < 0 does not intersect





import numpy as np
from PIL import Image
from IPython.display import display

# Define vector operations
def normalize(v):
    return v / np.linalg.norm(v)

def dot(v1, v2):
    return np.dot(v1, v2)

def reflect(v, n):
    return v - 2 * dot(v, n) * n

# Define a sphere class
class Sphere:
    def __init__(self, center, radius, color):
        self.center = np.array(center)
        self.radius = radius
        self.color = np.array(color)

    def intersect(self, origin, direction):
        oc = origin - self.center
        a = dot(direction, direction)
        b = 2.0 * dot(oc, direction)
        c = dot(oc, oc) - self.radius**2
        discriminant = b**2 - 4*a*c
        if discriminant > 0:
            t1 = (-b - np.sqrt(discriminant)) / (2.0 * a)
            t2 = (-b + np.sqrt(discriminant)) / (2.0 * a)
            if t1 > 0:
                return t1
            if t2 > 0:
                return t2
        return None

# Define a ray tracing function
def ray_trace(origin, direction, spheres, light_pos, ambient_color):
    closest_t = float('inf')
    hit_sphere = None
    for sphere in spheres:
        t = sphere.intersect(origin, direction)
        if t and t < closest_t:
            closest_t = t
            hit_sphere = sphere

    if hit_sphere is None:
        return np.array([0, 0, 0])  # background color

    hit_point = origin + closest_t * direction
    normal = normalize(hit_point - hit_sphere.center)
    light_dir = normalize(light_pos - hit_point)
    intensity = max(dot(normal, light_dir), 0)
    color = ambient_color + intensity * hit_sphere.color
    return np.clip(color, 0, 1)

# Set up the scene
width, height = 400, 300
aspect_ratio = width / height
camera_origin = np.array([0, 0, 0])
camera_z = 1
fov = 60
scale = np.tan(np.radians(fov * 0.5))
spheres = [
    Sphere([0, -1, 3], 1, [1, 0, 0]),  # Red sphere
    Sphere([2, 0, 4], 1, [0, 0, 1]),  # Blue sphere
    Sphere([-2, 0, 4], 1, [0, 1, 0])  # Green sphere
]
light_pos = np.array([5, 5, -10])
ambient_color = np.array([0.1, 0.1, 0.1])

# Render the image
image = np.zeros((height, width, 3))
for y in range(height):
    for x in range(width):
        px = (2 * (x + 0.5) / width - 1) * aspect_ratio * scale
        py = (1 - 2 * (y + 0.5) / height) * scale
        direction = normalize(np.array([px, py, camera_z]))
        color = ray_trace(camera_origin, direction, spheres, light_pos, ambient_color)
        image[y, x] = color

# Display the image using PIL
image = (image * 255).astype(np.uint8)
img = Image.fromarray(image, 'RGB')

# Display the image directly in the Jupyter notebook
display(img)







