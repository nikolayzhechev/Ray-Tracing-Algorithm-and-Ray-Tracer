








discriminant > 0 intersects at 2 points
discriminant = 0 intersects at 1 point
discriminant < 0 does not intersect












