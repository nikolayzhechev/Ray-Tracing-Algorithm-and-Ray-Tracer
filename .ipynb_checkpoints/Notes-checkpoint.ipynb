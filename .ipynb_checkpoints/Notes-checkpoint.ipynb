{
 "cells": [
  {
   "cell_type": "markdown",
   "id": "7029d497-cb63-4064-b0d8-9f92fc2bd3c8",
   "metadata": {},
   "source": [
    "## Ray Tracing\n",
    "\n",
    "#### Abstract:\n",
    "#### Introduction:\n",
    "\n"
   ]
  },
  {
   "cell_type": "markdown",
   "id": "817178b4-5c30-4421-8e87-19832eee251d",
   "metadata": {},
   "source": [
    "### Geenral Notes\n",
    "- Used to render images with computers.\n",
    "- In the real world our eyes capture all of the rays in order to see. However, in computer graphics we don't have infinite computanional power, so we use only the rays that reach or hit our eyes directly or after rebounds.\n",
    "\n",
    "#### Ray casting:\n",
    "\n",
    "- Render a scene by shooting one ray per pixel.\n",
    "- Ability to deal with non-planar surfaces and solids.\n",
    "\n",
    "#### Ray tracing:\n",
    "Ray tracing is an improvement on ray casting.\n",
    "\n",
    "- Introduces reflection, refraction and shadows.\n",
    "- Reflections continue on in the mirror-reflection direction of shiny or reflective surfaces.\n",
    "- Refraction is the ray which direction is into the object and can also exit it.\n",
    "- Shadow is computed by creating shadow rays which originates from the intersection to all lights."
   ]
  },
  {
   "cell_type": "markdown",
   "id": "79370185-6679-40fb-ac57-835d66114f08",
   "metadata": {},
   "source": [
    "### Algorithm\n",
    "\n",
    "Main 5 sections of the algorithm:\n",
    "1. Camera Ray casting\n",
    "2. Ray-object intersection\n",
    "3. Dealing with object transformation\n",
    "4. Lighting calculations\n",
    "5. Recursive ray tracing\n",
    "\n",
    "Generally the algorithm of ray tracing is performed by **tracing a path from an imaginary eye** through each pixel in a virtual screen.\n",
    "Take an initial point and a direction, given as a vector. The point and vecotr determine a ray.\n",
    "\n",
    "1. Creating the rayes from our eye:\n",
    "    Camera is positioned at the origin looking down at the **Z** axis.\n",
    "   "
   ]
  },
  {
   "cell_type": "code",
   "execution_count": null,
   "id": "0a802060-a612-4934-9e6f-ff32f84dc3f3",
   "metadata": {},
   "outputs": [],
   "source": []
  },
  {
   "cell_type": "code",
   "execution_count": null,
   "id": "a369e847-fb23-4e8c-813e-949f370939b3",
   "metadata": {},
   "outputs": [],
   "source": []
  },
  {
   "cell_type": "markdown",
   "id": "6ed68a54-75a2-476b-8fc6-0e23e8be1227",
   "metadata": {},
   "source": [
    "Links:\n",
    "https://inst.eecs.berkeley.edu/~cs294-13/fa09/lectures/scribe-lecture1.pdf\n",
    "https://math.hws.edu/eck/cs424/downloads/graphicsbook-linked.pdf#page=151&zoom=100,96,393"
   ]
  },
  {
   "cell_type": "code",
   "execution_count": null,
   "id": "36bd3bb5-1ccc-4fa6-a775-4e54d592b62c",
   "metadata": {},
   "outputs": [],
   "source": []
  }
 ],
 "metadata": {
  "kernelspec": {
   "display_name": "Python 3 (ipykernel)",
   "language": "python",
   "name": "python3"
  },
  "language_info": {
   "codemirror_mode": {
    "name": "ipython",
    "version": 3
   },
   "file_extension": ".py",
   "mimetype": "text/x-python",
   "name": "python",
   "nbconvert_exporter": "python",
   "pygments_lexer": "ipython3",
   "version": "3.11.7"
  }
 },
 "nbformat": 4,
 "nbformat_minor": 5
}
