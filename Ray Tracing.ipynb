{
 "cells": [
  {
   "cell_type": "markdown",
   "id": "6d996950-d712-4442-951d-6a1d8f787f64",
   "metadata": {},
   "source": [
    "# Ray Tracing\n",
    "### Exploring the Ray Tracing Algorithm and Creating a Ray Tracer from Scratch"
   ]
  },
  {
   "cell_type": "code",
   "execution_count": null,
   "id": "7ead1b2c-ec11-463f-aa83-2e7d09cb864d",
   "metadata": {},
   "outputs": [],
   "source": []
  }
 ],
 "metadata": {
  "kernelspec": {
   "display_name": "Python 3 (ipykernel)",
   "language": "python",
   "name": "python3"
  },
  "language_info": {
   "codemirror_mode": {
    "name": "ipython",
    "version": 3
   },
   "file_extension": ".py",
   "mimetype": "text/x-python",
   "name": "python",
   "nbconvert_exporter": "python",
   "pygments_lexer": "ipython3",
   "version": "3.11.7"
  }
 },
 "nbformat": 4,
 "nbformat_minor": 5
}
