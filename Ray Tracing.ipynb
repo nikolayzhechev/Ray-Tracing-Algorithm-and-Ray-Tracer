{
 "cells": [
  {
   "cell_type": "markdown",
   "id": "6d996950-d712-4442-951d-6a1d8f787f64",
   "metadata": {},
   "source": [
    "# Ray Tracing\n",
    "### Exploring the Ray Tracing Algorithm and Implementing a Ray Tracer from Scratch"
   ]
  },
  {
   "cell_type": "markdown",
   "id": "9a84b790-0811-40dc-bf8e-7ab87e31b239",
   "metadata": {},
   "source": [
    "### Abstract\n",
    "\n",
    "Computer graphics is a rich field consisting of computer science, math and innovation bundled in something visual that we can see on our machine's screens. It can be beautiful, meaningfull and of great importance to many industries: healtcare, manufacturing, gaming and much more. In this text we explore one of the most fascinating topics of computer graphics- ray tracing!\n",
    "\n",
    "Ray tracing is a fundamental part of rendering realistic 3D scenes as well as performing renders in ways never done before. Although the ray tracing algorithm has been around for quite some time we are still improving and optimizng how ray tracing works on our computers. I will dive deeper into how the actual math works and why it is important to understand it. We will see how an actual ray tracer is implemented and see it in action with a working prototype.\n",
    "\n",
    "As mentioned above we will not explore a new technique instead we will focus on refining and understading our currect knowledge due the significant applications that ray tracing has. Furthermore the explenation will show common problems and scenerios for improvement and extention as well as showing a visul guide and representation of the ray tracer."
   ]
  },
  {
   "cell_type": "markdown",
   "id": "17a91251-9258-4f97-9bcf-9119d0b85fca",
   "metadata": {},
   "source": [
    "### Introduction"
   ]
  },
  {
   "cell_type": "code",
   "execution_count": null,
   "id": "a7d55f29-caf5-44f6-8ad8-d73478ac37a6",
   "metadata": {},
   "outputs": [],
   "source": []
  }
 ],
 "metadata": {
  "kernelspec": {
   "display_name": "Python 3 (ipykernel)",
   "language": "python",
   "name": "python3"
  },
  "language_info": {
   "codemirror_mode": {
    "name": "ipython",
    "version": 3
   },
   "file_extension": ".py",
   "mimetype": "text/x-python",
   "name": "python",
   "nbconvert_exporter": "python",
   "pygments_lexer": "ipython3",
   "version": "3.11.7"
  }
 },
 "nbformat": 4,
 "nbformat_minor": 5
}
